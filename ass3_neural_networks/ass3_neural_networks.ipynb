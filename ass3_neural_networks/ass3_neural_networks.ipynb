{
 "cells": [
  {
   "cell_type": "markdown",
   "metadata": {
    "pycharm": {
     "name": "#%% md\n"
    }
   },
   "source": [
    "# Assignment 3: Neural Neyworks\n",
    "\n",
    "## In this assignment, you will use a neural network to recognize the hand-written digits 0-9."
   ]
  },
  {
   "cell_type": "markdown",
   "metadata": {
    "tags": [],
    "pycharm": {
     "name": "#%% md\n"
    }
   },
   "source": "## 1. Import statements"
  },
  {
   "metadata": {},
   "cell_type": "markdown",
   "source": [
    "The packages need for this assignment are **numpy**, **matplotlib**, and **tensorflow**. You also need to import the following modules from **keras**:\n",
    "- **Sequential** (from **models**)\n",
    "- **Dense** (from **layers**)\n",
    "- **linear**, **relu**, **sigmoid** (from **activations**)"
   ]
  },
  {
   "metadata": {
    "pycharm": {
     "name": "#%%\n"
    },
    "ExecuteTime": {
     "end_time": "2025-01-19T14:55:06.138898Z",
     "start_time": "2025-01-19T14:55:06.119411Z"
    }
   },
   "cell_type": "code",
   "source": [
    "# import statements\n",
    "# *** YOUR CODE HERE ***\n",
    "import numpy as np\n",
    "import matplotlib.pyplot as plt\n",
    "import tensorflow as tf\n",
    "from keras.api.layers import InputLayer, Dense\n",
    "from keras.api.models import Sequential\n",
    "from keras.api.activations import sigmoid, relu, linear\n",
    "from keras.api.losses import SparseCategoricalCrossentropy\n",
    "from keras.api.optimizers import Adam\n"
   ],
   "outputs": [],
   "execution_count": 56
  },
  {
   "cell_type": "markdown",
   "metadata": {
    "pycharm": {
     "name": "#%% md\n"
    }
   },
   "source": [
    "## 2. The Softmax Function\n",
    "#### The softmax function converts a vector $\\mathbf{z}=[z_0,...z_{n-1}]$ of real numbers into a probability distribution:\n",
    "$$ \\sigma(\\mathbf{z}) = \\left[\\frac{e^{z_0}}{ \\sum_{i=0}^{n-1}{e^{z_i} }} ... \\frac{e^{z_{n-1}}}{ \\sum_{i=0}^{n-1}{e^{z_i} }}\\right] $$\n",
    "#### When used for multiclass classification, $z = \\mathbf{w} \\cdot \\mathbf{x} + b$ is the **logits** vector, and $n$ is the number of neurons in the output layer.<br>\n",
    "#### Implement the sigmoid function in numpy.\n"
   ]
  },
  {
   "cell_type": "code",
   "metadata": {
    "pycharm": {
     "name": "#%%\n"
    },
    "ExecuteTime": {
     "end_time": "2025-01-19T14:55:06.176650Z",
     "start_time": "2025-01-19T14:55:06.170879Z"
    }
   },
   "source": [
    "def my_softmax(z):\n",
    "    \"\"\"\n",
    "    Compute the softmax function\n",
    "    Args:\n",
    "        z (ndarray (n,)): the input vector, ndarray of length n\n",
    "    Returns:\n",
    "        a (ndarray (n,)): softmax of z, with the same shape as z\n",
    "    \"\"\"\n",
    "    # *** YOUR CODE HERE ***\n",
    "    z = z -np.max(z)\n",
    "    exp = np.exp(z)\n",
    "    a = exp / np.sum(exp)\n",
    "    return a"
   ],
   "outputs": [],
   "execution_count": 57
  },
  {
   "metadata": {},
   "cell_type": "markdown",
   "source": "#### Compare your softmax implementation to tensorflow softmax, using the test below:"
  },
  {
   "metadata": {
    "pycharm": {
     "name": "#%%\n"
    },
    "ExecuteTime": {
     "end_time": "2025-01-19T14:55:06.230941Z",
     "start_time": "2025-01-19T14:55:06.207634Z"
    }
   },
   "cell_type": "code",
   "source": [
    "def test_my_softmax(z):\n",
    "    a = my_softmax(z)\n",
    "    atf = tf.nn.softmax(z)\n",
    "    print(f\"z:                     {z}\")\n",
    "    print(f\"my_softmax(z):         {a}\")\n",
    "    print(f\"tensorflow softmax(z): {atf}\")\n",
    "    assert np.allclose(a, atf, atol=1e-10), f\"Wrong values. Expected {atf}, got {a}\"\n",
    "    print(\"Test passed\")\n",
    "\n",
    "z = np.array([1., 2., 3., 4.])\n",
    "test_my_softmax(z)\n",
    "z = np.array([np.log(0.1)] * 10)\n",
    "test_my_softmax(z)"
   ],
   "outputs": [
    {
     "name": "stdout",
     "output_type": "stream",
     "text": [
      "z:                     [1. 2. 3. 4.]\n",
      "my_softmax(z):         [0.0320586  0.08714432 0.23688282 0.64391426]\n",
      "tensorflow softmax(z): [0.0320586  0.08714432 0.23688282 0.64391426]\n",
      "Test passed\n",
      "z:                     [-2.30258509 -2.30258509 -2.30258509 -2.30258509 -2.30258509 -2.30258509\n",
      " -2.30258509 -2.30258509 -2.30258509 -2.30258509]\n",
      "my_softmax(z):         [0.1 0.1 0.1 0.1 0.1 0.1 0.1 0.1 0.1 0.1]\n",
      "tensorflow softmax(z): [0.1 0.1 0.1 0.1 0.1 0.1 0.1 0.1 0.1 0.1]\n",
      "Test passed\n"
     ]
    }
   ],
   "execution_count": 58
  },
  {
   "metadata": {},
   "cell_type": "markdown",
   "source": "#### Complete the function below to plot z and my_softmax(z) side by side. Hint: use plt.subplot and the bar plot."
  },
  {
   "metadata": {
    "ExecuteTime": {
     "end_time": "2025-01-19T14:55:06.863975Z",
     "start_time": "2025-01-19T14:55:06.312699Z"
    }
   },
   "cell_type": "code",
   "source": [
    "def plt_softmax(z):\n",
    "    \"\"\"\n",
    "    Plot z and my_softmax(z) side by side\n",
    "    Args:\n",
    "        z (ndarray (n,)): the input vector, ndarray of length n\n",
    "    Returns:\n",
    "        None\n",
    "    \"\"\"\n",
    "    # *** YOUR CODE HERE ***\n",
    "    a = my_softmax(z)\n",
    "    fig, axs = plt.subplots(nrows=1, ncols=2, figsize=(9, 5) )\n",
    "    axs[0].bar(range(len(z)), z, color='b')\n",
    "    axs[0].set_title('z input to softmax')\n",
    "    axs[0].set_xlim(-1,5)\n",
    "    \n",
    "    axs[1].bar(range(len(a)), a, color='r')\n",
    "    axs[1].set_title('z input to softmax')\n",
    "    plt.show()\n",
    "    \n",
    "plt.close(\"all\")\n",
    "plt_softmax(np.array([1., 2., 3., 4.]))"
   ],
   "outputs": [
    {
     "data": {
      "text/plain": [
       "<Figure size 900x500 with 2 Axes>"
      ],
      "image/png": "[encoded data removed]"
     },
     "metadata": {},
     "output_type": "display_data"
    }
   ],
   "execution_count": 59
  },
  {
   "metadata": {},
   "cell_type": "markdown",
   "source": [
    "## 3. Handwritten Digit Recognition\n",
    "#### In handwritten digit recognition problem, you receive a handwritten image of a digit, and classify it into one of 10 classes. We start with the dataset."
   ]
  },
  {
   "metadata": {},
   "cell_type": "markdown",
   "source": [
    "### 3.1. The MNIST Dataset\n",
    "The MNIST dataset (Modified National Institute of Standards and Technology) is a widely used benchmark dataset in machine learning, particularly for image classification tasks. It consists of 70,000 labeled grayscale images of handwritten digits, ranging from 0 to 9, each of size 28x28 pixels. Each pixel is a number that indicates the pixel's grayscale intensity, ranging from 0 (black - no intensity) to 255 (white - maximum intensity).\n",
    "#### Loading MNIST\n",
    "TensorFlow provides a built-in function to load MNIST."
   ]
  },
  {
   "metadata": {
    "ExecuteTime": {
     "end_time": "2025-01-19T14:55:07.133907Z",
     "start_time": "2025-01-19T14:55:06.879968Z"
    }
   },
   "cell_type": "code",
   "source": "(x_train, y_train), (x_test, y_test) = tf.keras.datasets.mnist.load_data()",
   "outputs": [],
   "execution_count": 60
  },
  {
   "metadata": {
    "ExecuteTime": {
     "end_time": "2025-01-19T14:55:07.286508Z",
     "start_time": "2025-01-19T14:55:07.184316Z"
    }
   },
   "cell_type": "code",
   "source": [
    "# Print the type and shape of x_train, y_train, x_test, y_test. Print also the min, max, and average values, to get an idea of the data.\n",
    "# *** YOUR CODE HERE ***\n",
    "print(f\"x_train: type = {type(x_train)}, shape = {x_train.shape}, min = {x_train.min()}, max = {x_train.max()}, mean = {x_train.mean():.2f}\") \n",
    "print(f\"y_train: type = {type(y_train)}, shape = {y_train.shape}, min = {y_train.min()}, max = {y_train.max()}, mean = {y_train.mean():.2f}\") \n",
    "print(f\"x_test: type = {type(x_test)}, shape = {x_test.shape}, min = {x_test.min()}, max = {x_test.max()}, mean = {x_test.mean():.2f}\") \n",
    "print(f\"y_test: type = {type(y_test)}, shape = {y_test.shape}, min = {y_test.min()}, max = {y_test.max()}, mean = {y_test.mean():.2f}\") "
   ],
   "outputs": [
    {
     "name": "stdout",
     "output_type": "stream",
     "text": [
      "x_train: type = <class 'numpy.ndarray'>, shape = (60000, 28, 28), min = 0, max = 255, mean = 33.32\n",
      "y_train: type = <class 'numpy.ndarray'>, shape = (60000,), min = 0, max = 9, mean = 4.45\n",
      "x_test: type = <class 'numpy.ndarray'>, shape = (10000, 28, 28), min = 0, max = 255, mean = 33.79\n",
      "y_test: type = <class 'numpy.ndarray'>, shape = (10000,), min = 0, max = 9, mean = 4.44\n"
     ]
    }
   ],
   "execution_count": 61
  },
  {
   "metadata": {
    "ExecuteTime": {
     "end_time": "2025-01-19T14:55:12.044161Z",
     "start_time": "2025-01-19T14:55:07.329276Z"
    }
   },
   "cell_type": "code",
   "source": [
    "# Visualize the data. You do not need to modify anything in this cell\n",
    "import warnings\n",
    "warnings.simplefilter(action='ignore', category=FutureWarning)\n",
    "plt.close(\"all\")\n",
    "fig, axes = plt.subplots(8,8, figsize=(5,5))\n",
    "fig.tight_layout(pad=0.13,rect=[0, 0.03, 1, 0.91]) #[left, bottom, right, top]\n",
    "m = x_train.shape[0]\n",
    "\n",
    "for i,ax in enumerate(axes.flat):\n",
    "    # Select random indices\n",
    "    random_index = np.random.randint(m)\n",
    "\n",
    "    # Display the image\n",
    "    ax.imshow(x_train[random_index], cmap='gray')\n",
    "\n",
    "    # Display the label above the image\n",
    "    ax.set_title(y_train[random_index])\n",
    "    ax.set_axis_off()\n",
    "    fig.suptitle(\"Label, image\", fontsize=14)\n",
    "plt.show()"
   ],
   "outputs": [
    {
     "data": {
      "text/plain": [
       "<Figure size 500x500 with 64 Axes>"
      ],
      "image/png": "[encoded data removed]"
     },
     "metadata": {},
     "output_type": "display_data"
    }
   ],
   "execution_count": 62
  },
  {
   "metadata": {},
   "cell_type": "markdown",
   "source": [
    "#### Normalization\n",
    "Using the raw values is not recommended - they are large, and gradient descent can be slow. You should normalize all x values to be between 0 and 1."
   ]
  },
  {
   "metadata": {
    "ExecuteTime": {
     "end_time": "2025-01-19T14:55:12.445086Z",
     "start_time": "2025-01-19T14:55:12.089780Z"
    }
   },
   "cell_type": "code",
   "source": [
    "# Normalize x values. Print min, max and mean.\n",
    "\n",
    "# *** YOUR CODE HERE ***\n",
    "x_train_norm = x_train / 255\n",
    "x_test_norm = x_test / 255\n",
    "\n",
    "print(f\"= x_train_norm: min = {x_train_norm.min()}, max = {x_train_norm.max()}, mean = {x_train_norm.mean():.2f}\")\n",
    "print(f\"= x_test_norm: min = {x_test_norm.min()}, max = {x_test_norm.max()}, mean = {x_test_norm.mean():.2f}\")"
   ],
   "outputs": [
    {
     "name": "stdout",
     "output_type": "stream",
     "text": [
      "= x_train_norm: min = 0.0, max = 1.0, mean = 0.13\n",
      "= x_test_norm: min = 0.0, max = 1.0, mean = 0.13\n"
     ]
    }
   ],
   "execution_count": 63
  },
  {
   "metadata": {},
   "cell_type": "markdown",
   "source": [
    "The training and test set are currently 3d arrays:\n",
    "- the first dimension (shape[0]) is the number of training/test instances;\n",
    "- the second and third dimension (shape[1], shape[2]) hold the image in a 28x28 grid.\n",
    "\n",
    "To use it as an input, you need to convert each set into a 2d array:\n",
    "- shape[0] is the number of instances\n",
    "- shape[1] is the number of features (in this case, 28*28 = 784)"
   ]
  },
  {
   "metadata": {
    "ExecuteTime": {
     "end_time": "2025-01-19T14:55:12.539813Z",
     "start_time": "2025-01-19T14:55:12.493237Z"
    }
   },
   "cell_type": "code",
   "source": [
    "# Convert the x sets into 2-d arrays\n",
    "\n",
    "# *** YOUR CODE HERE ***\n",
    "x_train_reshaped = x_train_norm.reshape(x_train_norm.shape[0], -1)\n",
    "x_test_reshaped = x_test_norm.reshape(x_test_norm.shape[0], -1)\n",
    "\n",
    "print(f\"x_train_reshaped shape = {x_train_reshaped.shape}\")\n",
    "print(f\"x_test_reshaped shape = {x_test_reshaped.shape}\")\n"
   ],
   "outputs": [
    {
     "name": "stdout",
     "output_type": "stream",
     "text": [
      "x_train_reshaped shape = (60000, 784)\n",
      "x_test_reshaped shape = (10000, 784)\n"
     ]
    }
   ],
   "execution_count": 64
  },
  {
   "metadata": {},
   "cell_type": "markdown",
   "source": [
    "### 3.2. Training\n",
    "\n",
    "\n",
    "The neural network you will use in this assignment is shown in the figure below. It has two dense layers with ReLU activations followed by an output layer with a linear activation. The softmax is applied by the cost function, like we saw in the lecture.\n",
    "\n",
    "<img src=\"ass3_NN.png\" width=\"600\" height=\"450\">"
   ]
  },
  {
   "cell_type": "code",
   "metadata": {
    "pycharm": {
     "name": "#%%\n"
    },
    "ExecuteTime": {
     "end_time": "2025-01-19T14:55:12.629943Z",
     "start_time": "2025-01-19T14:55:12.577040Z"
    }
   },
   "source": [
    "# Create the model in tensorflow\n",
    "tf.random.set_seed(42) # for consistent results\n",
    "# *** YOUR CODE HERE ***\n",
    "model = Sequential(\n",
    "    [InputLayer((784,)),\n",
    "    Dense(25, activation='relu', name='L1'),\n",
    "    Dense(15, activation='relu', name='L2'),\n",
    "    Dense(10, activation='linear', name='L3')\n",
    "])"
   ],
   "outputs": [],
   "execution_count": 65
  },
  {
   "cell_type": "code",
   "metadata": {
    "pycharm": {
     "name": "#%%\n"
    },
    "ExecuteTime": {
     "end_time": "2025-01-19T14:55:12.735388Z",
     "start_time": "2025-01-19T14:55:12.687907Z"
    }
   },
   "source": [
    "model.summary()"
   ],
   "outputs": [
    {
     "data": {
      "text/plain": [
       "\u001B[1mModel: \"sequential_2\"\u001B[0m\n"
      ],
      "text/html": [
       "<pre style=\"white-space:pre;overflow-x:auto;line-height:normal;font-family:Menlo,'DejaVu Sans Mono',consolas,'Courier New',monospace\"><span style=\"font-weight: bold\">Model: \"sequential_2\"</span>\n",
       "</pre>\n"
      ]
     },
     "metadata": {},
     "output_type": "display_data"
    },
    {
     "data": {
      "text/plain": [
       "┏━━━━━━━━━━━━━━━━━━━━━━━━━━━━━━━━━┳━━━━━━━━━━━━━━━━━━━━━━━━┳━━━━━━━━━━━━━━━┓\n",
       "┃\u001B[1m \u001B[0m\u001B[1mLayer (type)                   \u001B[0m\u001B[1m \u001B[0m┃\u001B[1m \u001B[0m\u001B[1mOutput Shape          \u001B[0m\u001B[1m \u001B[0m┃\u001B[1m \u001B[0m\u001B[1m      Param #\u001B[0m\u001B[1m \u001B[0m┃\n",
       "┡━━━━━━━━━━━━━━━━━━━━━━━━━━━━━━━━━╇━━━━━━━━━━━━━━━━━━━━━━━━╇━━━━━━━━━━━━━━━┩\n",
       "│ L1 (\u001B[38;5;33mDense\u001B[0m)                      │ (\u001B[38;5;45mNone\u001B[0m, \u001B[38;5;34m25\u001B[0m)             │        \u001B[38;5;34m19,625\u001B[0m │\n",
       "├─────────────────────────────────┼────────────────────────┼───────────────┤\n",
       "│ L2 (\u001B[38;5;33mDense\u001B[0m)                      │ (\u001B[38;5;45mNone\u001B[0m, \u001B[38;5;34m15\u001B[0m)             │           \u001B[38;5;34m390\u001B[0m │\n",
       "├─────────────────────────────────┼────────────────────────┼───────────────┤\n",
       "│ L3 (\u001B[38;5;33mDense\u001B[0m)                      │ (\u001B[38;5;45mNone\u001B[0m, \u001B[38;5;34m10\u001B[0m)             │           \u001B[38;5;34m160\u001B[0m │\n",
       "└─────────────────────────────────┴────────────────────────┴───────────────┘\n"
      ],
      "text/html": [
       "<pre style=\"white-space:pre;overflow-x:auto;line-height:normal;font-family:Menlo,'DejaVu Sans Mono',consolas,'Courier New',monospace\">┏━━━━━━━━━━━━━━━━━━━━━━━━━━━━━━━━━┳━━━━━━━━━━━━━━━━━━━━━━━━┳━━━━━━━━━━━━━━━┓\n",
       "┃<span style=\"font-weight: bold\"> Layer (type)                    </span>┃<span style=\"font-weight: bold\"> Output Shape           </span>┃<span style=\"font-weight: bold\">       Param # </span>┃\n",
       "┡━━━━━━━━━━━━━━━━━━━━━━━━━━━━━━━━━╇━━━━━━━━━━━━━━━━━━━━━━━━╇━━━━━━━━━━━━━━━┩\n",
       "│ L1 (<span style=\"color: #0087ff; text-decoration-color: #0087ff\">Dense</span>)                      │ (<span style=\"color: #00d7ff; text-decoration-color: #00d7ff\">None</span>, <span style=\"color: #00af00; text-decoration-color: #00af00\">25</span>)             │        <span style=\"color: #00af00; text-decoration-color: #00af00\">19,625</span> │\n",
       "├─────────────────────────────────┼────────────────────────┼───────────────┤\n",
       "│ L2 (<span style=\"color: #0087ff; text-decoration-color: #0087ff\">Dense</span>)                      │ (<span style=\"color: #00d7ff; text-decoration-color: #00d7ff\">None</span>, <span style=\"color: #00af00; text-decoration-color: #00af00\">15</span>)             │           <span style=\"color: #00af00; text-decoration-color: #00af00\">390</span> │\n",
       "├─────────────────────────────────┼────────────────────────┼───────────────┤\n",
       "│ L3 (<span style=\"color: #0087ff; text-decoration-color: #0087ff\">Dense</span>)                      │ (<span style=\"color: #00d7ff; text-decoration-color: #00d7ff\">None</span>, <span style=\"color: #00af00; text-decoration-color: #00af00\">10</span>)             │           <span style=\"color: #00af00; text-decoration-color: #00af00\">160</span> │\n",
       "└─────────────────────────────────┴────────────────────────┴───────────────┘\n",
       "</pre>\n"
      ]
     },
     "metadata": {},
     "output_type": "display_data"
    },
    {
     "data": {
      "text/plain": [
       "\u001B[1m Total params: \u001B[0m\u001B[38;5;34m20,175\u001B[0m (78.81 KB)\n"
      ],
      "text/html": [
       "<pre style=\"white-space:pre;overflow-x:auto;line-height:normal;font-family:Menlo,'DejaVu Sans Mono',consolas,'Courier New',monospace\"><span style=\"font-weight: bold\"> Total params: </span><span style=\"color: #00af00; text-decoration-color: #00af00\">20,175</span> (78.81 KB)\n",
       "</pre>\n"
      ]
     },
     "metadata": {},
     "output_type": "display_data"
    },
    {
     "data": {
      "text/plain": [
       "\u001B[1m Trainable params: \u001B[0m\u001B[38;5;34m20,175\u001B[0m (78.81 KB)\n"
      ],
      "text/html": [
       "<pre style=\"white-space:pre;overflow-x:auto;line-height:normal;font-family:Menlo,'DejaVu Sans Mono',consolas,'Courier New',monospace\"><span style=\"font-weight: bold\"> Trainable params: </span><span style=\"color: #00af00; text-decoration-color: #00af00\">20,175</span> (78.81 KB)\n",
       "</pre>\n"
      ]
     },
     "metadata": {},
     "output_type": "display_data"
    },
    {
     "data": {
      "text/plain": [
       "\u001B[1m Non-trainable params: \u001B[0m\u001B[38;5;34m0\u001B[0m (0.00 B)\n"
      ],
      "text/html": [
       "<pre style=\"white-space:pre;overflow-x:auto;line-height:normal;font-family:Menlo,'DejaVu Sans Mono',consolas,'Courier New',monospace\"><span style=\"font-weight: bold\"> Non-trainable params: </span><span style=\"color: #00af00; text-decoration-color: #00af00\">0</span> (0.00 B)\n",
       "</pre>\n"
      ]
     },
     "metadata": {},
     "output_type": "display_data"
    }
   ],
   "execution_count": 66
  },
  {
   "cell_type": "markdown",
   "metadata": {
    "pycharm": {
     "name": "#%% md\n"
    }
   },
   "source": [
    "The parameter counts shown in the summary correspond to the number of elements in the weight and bias arrays as shown below."
   ]
  },
  {
   "cell_type": "markdown",
   "metadata": {
    "pycharm": {
     "name": "#%% md\n"
    }
   },
   "source": [
    "Let's further examine the weights to verify that tensorflow produced the same dimensions as we calculated above."
   ]
  },
  {
   "cell_type": "code",
   "metadata": {
    "pycharm": {
     "name": "#%%\n"
    },
    "ExecuteTime": {
     "end_time": "2025-01-19T14:55:12.793039Z",
     "start_time": "2025-01-19T14:55:12.789196Z"
    }
   },
   "source": [
    "[layer1, layer2, layer3] = model.layers"
   ],
   "outputs": [],
   "execution_count": 67
  },
  {
   "cell_type": "code",
   "metadata": {
    "pycharm": {
     "name": "#%%\n"
    },
    "ExecuteTime": {
     "end_time": "2025-01-19T14:55:12.868754Z",
     "start_time": "2025-01-19T14:55:12.842591Z"
    }
   },
   "source": [
    "#### Examine Weights shapes\n",
    "W1,b1 = layer1.get_weights()\n",
    "W2,b2 = layer2.get_weights()\n",
    "W3,b3 = layer3.get_weights()\n",
    "print(f\"W1 shape = {W1.shape}, b1 shape = {b1.shape}\")\n",
    "print(f\"W2 shape = {W2.shape}, b2 shape = {b2.shape}\")\n",
    "print(f\"W3 shape = {W3.shape}, b3 shape = {b3.shape}\")"
   ],
   "outputs": [
    {
     "name": "stdout",
     "output_type": "stream",
     "text": [
      "W1 shape = (784, 25), b1 shape = (25,)\n",
      "W2 shape = (25, 15), b2 shape = (15,)\n",
      "W3 shape = (15, 10), b3 shape = (10,)\n"
     ]
    }
   ],
   "execution_count": 68
  },
  {
   "metadata": {},
   "cell_type": "markdown",
   "source": [
    "Compile the model:\n",
    "* specify a loss function, `SparseCategoricalCrossentropy`. Make sure you apply it to the logits!\n",
    "* specify an optimizer. A popular choice is Adaptive Moment (Adam) which was described in lecture."
   ]
  },
  {
   "cell_type": "code",
   "metadata": {
    "ExecuteTime": {
     "end_time": "2025-01-19T14:55:12.989949Z",
     "start_time": "2025-01-19T14:55:12.970712Z"
    }
   },
   "source": [
    "# *** YOUR CODE HERE ***\n",
    "model.compile(loss=SparseCategoricalCrossentropy(from_logits=True), optimizer=Adam(learning_rate=1e-3), metrics=[]) #use what we seen in the lcture\n"
   ],
   "outputs": [],
   "execution_count": 69
  },
  {
   "metadata": {},
   "cell_type": "markdown",
   "source": "Train the model."
  },
  {
   "metadata": {
    "scrolled": true,
    "pycharm": {
     "name": "#%%\n"
    },
    "ExecuteTime": {
     "end_time": "2025-01-19T15:00:44.871721Z",
     "start_time": "2025-01-19T14:55:13.068915Z"
    }
   },
   "cell_type": "code",
   "source": "history = model.fit(x_train_reshaped, y_train, epochs=100) # 100 epochs like lecture",
   "outputs": [
    {
     "name": "stdout",
     "output_type": "stream",
     "text": [
      "Epoch 1/100\n",
      "\u001B[1m1875/1875\u001B[0m \u001B[32m━━━━━━━━━━━━━━━━━━━━\u001B[0m\u001B[37m\u001B[0m \u001B[1m4s\u001B[0m 1ms/step - loss: 0.7405\n",
      "Epoch 2/100\n",
      "\u001B[1m1875/1875\u001B[0m \u001B[32m━━━━━━━━━━━━━━━━━━━━\u001B[0m\u001B[37m\u001B[0m \u001B[1m4s\u001B[0m 2ms/step - loss: 0.2233\n",
      "Epoch 3/100\n",
      "\u001B[1m1875/1875\u001B[0m \u001B[32m━━━━━━━━━━━━━━━━━━━━\u001B[0m\u001B[37m\u001B[0m \u001B[1m5s\u001B[0m 2ms/step - loss: 0.1772\n",
      "Epoch 4/100\n",
      "\u001B[1m1875/1875\u001B[0m \u001B[32m━━━━━━━━━━━━━━━━━━━━\u001B[0m\u001B[37m\u001B[0m \u001B[1m3s\u001B[0m 2ms/step - loss: 0.1508\n",
      "Epoch 5/100\n",
      "\u001B[1m1875/1875\u001B[0m \u001B[32m━━━━━━━━━━━━━━━━━━━━\u001B[0m\u001B[37m\u001B[0m \u001B[1m5s\u001B[0m 3ms/step - loss: 0.1332\n",
      "Epoch 6/100\n",
      "\u001B[1m1875/1875\u001B[0m \u001B[32m━━━━━━━━━━━━━━━━━━━━\u001B[0m\u001B[37m\u001B[0m \u001B[1m4s\u001B[0m 2ms/step - loss: 0.1198\n",
      "Epoch 7/100\n",
      "\u001B[1m1875/1875\u001B[0m \u001B[32m━━━━━━━━━━━━━━━━━━━━\u001B[0m\u001B[37m\u001B[0m \u001B[1m4s\u001B[0m 2ms/step - loss: 0.1096\n",
      "Epoch 8/100\n",
      "\u001B[1m1875/1875\u001B[0m \u001B[32m━━━━━━━━━━━━━━━━━━━━\u001B[0m\u001B[37m\u001B[0m \u001B[1m3s\u001B[0m 2ms/step - loss: 0.1012\n",
      "Epoch 9/100\n",
      "\u001B[1m1875/1875\u001B[0m \u001B[32m━━━━━━━━━━━━━━━━━━━━\u001B[0m\u001B[37m\u001B[0m \u001B[1m3s\u001B[0m 1ms/step - loss: 0.0942\n",
      "Epoch 10/100\n",
      "\u001B[1m1875/1875\u001B[0m \u001B[32m━━━━━━━━━━━━━━━━━━━━\u001B[0m\u001B[37m\u001B[0m \u001B[1m5s\u001B[0m 1ms/step - loss: 0.0881\n",
      "Epoch 11/100\n",
      "\u001B[1m1875/1875\u001B[0m \u001B[32m━━━━━━━━━━━━━━━━━━━━\u001B[0m\u001B[37m\u001B[0m \u001B[1m3s\u001B[0m 1ms/step - loss: 0.0827\n",
      "Epoch 12/100\n",
      "\u001B[1m1875/1875\u001B[0m \u001B[32m━━━━━━━━━━━━━━━━━━━━\u001B[0m\u001B[37m\u001B[0m \u001B[1m3s\u001B[0m 2ms/step - loss: 0.0776\n",
      "Epoch 13/100\n",
      "\u001B[1m1875/1875\u001B[0m \u001B[32m━━━━━━━━━━━━━━━━━━━━\u001B[0m\u001B[37m\u001B[0m \u001B[1m3s\u001B[0m 2ms/step - loss: 0.0737\n",
      "Epoch 14/100\n",
      "\u001B[1m1875/1875\u001B[0m \u001B[32m━━━━━━━━━━━━━━━━━━━━\u001B[0m\u001B[37m\u001B[0m \u001B[1m3s\u001B[0m 2ms/step - loss: 0.0702\n",
      "Epoch 15/100\n",
      "\u001B[1m1875/1875\u001B[0m \u001B[32m━━━━━━━━━━━━━━━━━━━━\u001B[0m\u001B[37m\u001B[0m \u001B[1m3s\u001B[0m 1ms/step - loss: 0.0670\n",
      "Epoch 16/100\n",
      "\u001B[1m1875/1875\u001B[0m \u001B[32m━━━━━━━━━━━━━━━━━━━━\u001B[0m\u001B[37m\u001B[0m \u001B[1m3s\u001B[0m 2ms/step - loss: 0.0638\n",
      "Epoch 17/100\n",
      "\u001B[1m1875/1875\u001B[0m \u001B[32m━━━━━━━━━━━━━━━━━━━━\u001B[0m\u001B[37m\u001B[0m \u001B[1m3s\u001B[0m 2ms/step - loss: 0.0614\n",
      "Epoch 18/100\n",
      "\u001B[1m1875/1875\u001B[0m \u001B[32m━━━━━━━━━━━━━━━━━━━━\u001B[0m\u001B[37m\u001B[0m \u001B[1m3s\u001B[0m 2ms/step - loss: 0.0584\n",
      "Epoch 19/100\n",
      "\u001B[1m1875/1875\u001B[0m \u001B[32m━━━━━━━━━━━━━━━━━━━━\u001B[0m\u001B[37m\u001B[0m \u001B[1m5s\u001B[0m 1ms/step - loss: 0.0562\n",
      "Epoch 20/100\n",
      "\u001B[1m1875/1875\u001B[0m \u001B[32m━━━━━━━━━━━━━━━━━━━━\u001B[0m\u001B[37m\u001B[0m \u001B[1m3s\u001B[0m 1ms/step - loss: 0.0542\n",
      "Epoch 21/100\n",
      "\u001B[1m1875/1875\u001B[0m \u001B[32m━━━━━━━━━━━━━━━━━━━━\u001B[0m\u001B[37m\u001B[0m \u001B[1m3s\u001B[0m 1ms/step - loss: 0.0516\n",
      "Epoch 22/100\n",
      "\u001B[1m1875/1875\u001B[0m \u001B[32m━━━━━━━━━━━━━━━━━━━━\u001B[0m\u001B[37m\u001B[0m \u001B[1m3s\u001B[0m 2ms/step - loss: 0.0498\n",
      "Epoch 23/100\n",
      "\u001B[1m1875/1875\u001B[0m \u001B[32m━━━━━━━━━━━━━━━━━━━━\u001B[0m\u001B[37m\u001B[0m \u001B[1m5s\u001B[0m 3ms/step - loss: 0.0477\n",
      "Epoch 24/100\n",
      "\u001B[1m1875/1875\u001B[0m \u001B[32m━━━━━━━━━━━━━━━━━━━━\u001B[0m\u001B[37m\u001B[0m \u001B[1m3s\u001B[0m 1ms/step - loss: 0.0458\n",
      "Epoch 25/100\n",
      "\u001B[1m1875/1875\u001B[0m \u001B[32m━━━━━━━━━━━━━━━━━━━━\u001B[0m\u001B[37m\u001B[0m \u001B[1m3s\u001B[0m 1ms/step - loss: 0.0438\n",
      "Epoch 26/100\n",
      "\u001B[1m1875/1875\u001B[0m \u001B[32m━━━━━━━━━━━━━━━━━━━━\u001B[0m\u001B[37m\u001B[0m \u001B[1m3s\u001B[0m 1ms/step - loss: 0.0422\n",
      "Epoch 27/100\n",
      "\u001B[1m1875/1875\u001B[0m \u001B[32m━━━━━━━━━━━━━━━━━━━━\u001B[0m\u001B[37m\u001B[0m \u001B[1m3s\u001B[0m 2ms/step - loss: 0.0414\n",
      "Epoch 28/100\n",
      "\u001B[1m1875/1875\u001B[0m \u001B[32m━━━━━━━━━━━━━━━━━━━━\u001B[0m\u001B[37m\u001B[0m \u001B[1m3s\u001B[0m 2ms/step - loss: 0.0391\n",
      "Epoch 29/100\n",
      "\u001B[1m1875/1875\u001B[0m \u001B[32m━━━━━━━━━━━━━━━━━━━━\u001B[0m\u001B[37m\u001B[0m \u001B[1m3s\u001B[0m 1ms/step - loss: 0.0381\n",
      "Epoch 30/100\n",
      "\u001B[1m1875/1875\u001B[0m \u001B[32m━━━━━━━━━━━━━━━━━━━━\u001B[0m\u001B[37m\u001B[0m \u001B[1m3s\u001B[0m 2ms/step - loss: 0.0367\n",
      "Epoch 31/100\n",
      "\u001B[1m1875/1875\u001B[0m \u001B[32m━━━━━━━━━━━━━━━━━━━━\u001B[0m\u001B[37m\u001B[0m \u001B[1m3s\u001B[0m 1ms/step - loss: 0.0362\n",
      "Epoch 32/100\n",
      "\u001B[1m1875/1875\u001B[0m \u001B[32m━━━━━━━━━━━━━━━━━━━━\u001B[0m\u001B[37m\u001B[0m \u001B[1m5s\u001B[0m 2ms/step - loss: 0.0351\n",
      "Epoch 33/100\n",
      "\u001B[1m1875/1875\u001B[0m \u001B[32m━━━━━━━━━━━━━━━━━━━━\u001B[0m\u001B[37m\u001B[0m \u001B[1m3s\u001B[0m 2ms/step - loss: 0.0332\n",
      "Epoch 34/100\n",
      "\u001B[1m1875/1875\u001B[0m \u001B[32m━━━━━━━━━━━━━━━━━━━━\u001B[0m\u001B[37m\u001B[0m \u001B[1m3s\u001B[0m 1ms/step - loss: 0.0328\n",
      "Epoch 35/100\n",
      "\u001B[1m1875/1875\u001B[0m \u001B[32m━━━━━━━━━━━━━━━━━━━━\u001B[0m\u001B[37m\u001B[0m \u001B[1m3s\u001B[0m 1ms/step - loss: 0.0306\n",
      "Epoch 36/100\n",
      "\u001B[1m1875/1875\u001B[0m \u001B[32m━━━━━━━━━━━━━━━━━━━━\u001B[0m\u001B[37m\u001B[0m \u001B[1m3s\u001B[0m 1ms/step - loss: 0.0314\n",
      "Epoch 37/100\n",
      "\u001B[1m1875/1875\u001B[0m \u001B[32m━━━━━━━━━━━━━━━━━━━━\u001B[0m\u001B[37m\u001B[0m \u001B[1m3s\u001B[0m 1ms/step - loss: 0.0289\n",
      "Epoch 38/100\n",
      "\u001B[1m1875/1875\u001B[0m \u001B[32m━━━━━━━━━━━━━━━━━━━━\u001B[0m\u001B[37m\u001B[0m \u001B[1m3s\u001B[0m 2ms/step - loss: 0.0297\n",
      "Epoch 39/100\n",
      "\u001B[1m1875/1875\u001B[0m \u001B[32m━━━━━━━━━━━━━━━━━━━━\u001B[0m\u001B[37m\u001B[0m \u001B[1m3s\u001B[0m 2ms/step - loss: 0.0278\n",
      "Epoch 40/100\n",
      "\u001B[1m1875/1875\u001B[0m \u001B[32m━━━━━━━━━━━━━━━━━━━━\u001B[0m\u001B[37m\u001B[0m \u001B[1m3s\u001B[0m 1ms/step - loss: 0.0272\n",
      "Epoch 41/100\n",
      "\u001B[1m1875/1875\u001B[0m \u001B[32m━━━━━━━━━━━━━━━━━━━━\u001B[0m\u001B[37m\u001B[0m \u001B[1m3s\u001B[0m 1ms/step - loss: 0.0268\n",
      "Epoch 42/100\n",
      "\u001B[1m1875/1875\u001B[0m \u001B[32m━━━━━━━━━━━━━━━━━━━━\u001B[0m\u001B[37m\u001B[0m \u001B[1m3s\u001B[0m 2ms/step - loss: 0.0262\n",
      "Epoch 43/100\n",
      "\u001B[1m1875/1875\u001B[0m \u001B[32m━━━━━━━━━━━━━━━━━━━━\u001B[0m\u001B[37m\u001B[0m \u001B[1m3s\u001B[0m 2ms/step - loss: 0.0261\n",
      "Epoch 44/100\n",
      "\u001B[1m1875/1875\u001B[0m \u001B[32m━━━━━━━━━━━━━━━━━━━━\u001B[0m\u001B[37m\u001B[0m \u001B[1m3s\u001B[0m 2ms/step - loss: 0.0261\n",
      "Epoch 45/100\n",
      "\u001B[1m1875/1875\u001B[0m \u001B[32m━━━━━━━━━━━━━━━━━━━━\u001B[0m\u001B[37m\u001B[0m \u001B[1m3s\u001B[0m 2ms/step - loss: 0.0261\n",
      "Epoch 46/100\n",
      "\u001B[1m1875/1875\u001B[0m \u001B[32m━━━━━━━━━━━━━━━━━━━━\u001B[0m\u001B[37m\u001B[0m \u001B[1m3s\u001B[0m 1ms/step - loss: 0.0250\n",
      "Epoch 47/100\n",
      "\u001B[1m1875/1875\u001B[0m \u001B[32m━━━━━━━━━━━━━━━━━━━━\u001B[0m\u001B[37m\u001B[0m \u001B[1m4s\u001B[0m 2ms/step - loss: 0.0220\n",
      "Epoch 48/100\n",
      "\u001B[1m1875/1875\u001B[0m \u001B[32m━━━━━━━━━━━━━━━━━━━━\u001B[0m\u001B[37m\u001B[0m \u001B[1m4s\u001B[0m 2ms/step - loss: 0.0233\n",
      "Epoch 49/100\n",
      "\u001B[1m1875/1875\u001B[0m \u001B[32m━━━━━━━━━━━━━━━━━━━━\u001B[0m\u001B[37m\u001B[0m \u001B[1m5s\u001B[0m 3ms/step - loss: 0.0218\n",
      "Epoch 50/100\n",
      "\u001B[1m1875/1875\u001B[0m \u001B[32m━━━━━━━━━━━━━━━━━━━━\u001B[0m\u001B[37m\u001B[0m \u001B[1m5s\u001B[0m 2ms/step - loss: 0.0222\n",
      "Epoch 51/100\n",
      "\u001B[1m1875/1875\u001B[0m \u001B[32m━━━━━━━━━━━━━━━━━━━━\u001B[0m\u001B[37m\u001B[0m \u001B[1m5s\u001B[0m 2ms/step - loss: 0.0209\n",
      "Epoch 52/100\n",
      "\u001B[1m1875/1875\u001B[0m \u001B[32m━━━━━━━━━━━━━━━━━━━━\u001B[0m\u001B[37m\u001B[0m \u001B[1m5s\u001B[0m 2ms/step - loss: 0.0202\n",
      "Epoch 53/100\n",
      "\u001B[1m1875/1875\u001B[0m \u001B[32m━━━━━━━━━━━━━━━━━━━━\u001B[0m\u001B[37m\u001B[0m \u001B[1m4s\u001B[0m 2ms/step - loss: 0.0209\n",
      "Epoch 54/100\n",
      "\u001B[1m1875/1875\u001B[0m \u001B[32m━━━━━━━━━━━━━━━━━━━━\u001B[0m\u001B[37m\u001B[0m \u001B[1m3s\u001B[0m 2ms/step - loss: 0.0219\n",
      "Epoch 55/100\n",
      "\u001B[1m1875/1875\u001B[0m \u001B[32m━━━━━━━━━━━━━━━━━━━━\u001B[0m\u001B[37m\u001B[0m \u001B[1m4s\u001B[0m 2ms/step - loss: 0.0175\n",
      "Epoch 56/100\n",
      "\u001B[1m1875/1875\u001B[0m \u001B[32m━━━━━━━━━━━━━━━━━━━━\u001B[0m\u001B[37m\u001B[0m \u001B[1m5s\u001B[0m 2ms/step - loss: 0.0202\n",
      "Epoch 57/100\n",
      "\u001B[1m1875/1875\u001B[0m \u001B[32m━━━━━━━━━━━━━━━━━━━━\u001B[0m\u001B[37m\u001B[0m \u001B[1m3s\u001B[0m 2ms/step - loss: 0.0215\n",
      "Epoch 58/100\n",
      "\u001B[1m1875/1875\u001B[0m \u001B[32m━━━━━━━━━━━━━━━━━━━━\u001B[0m\u001B[37m\u001B[0m \u001B[1m3s\u001B[0m 1ms/step - loss: 0.0175\n",
      "Epoch 59/100\n",
      "\u001B[1m1875/1875\u001B[0m \u001B[32m━━━━━━━━━━━━━━━━━━━━\u001B[0m\u001B[37m\u001B[0m \u001B[1m4s\u001B[0m 2ms/step - loss: 0.0189\n",
      "Epoch 60/100\n",
      "\u001B[1m1875/1875\u001B[0m \u001B[32m━━━━━━━━━━━━━━━━━━━━\u001B[0m\u001B[37m\u001B[0m \u001B[1m5s\u001B[0m 2ms/step - loss: 0.0188\n",
      "Epoch 61/100\n",
      "\u001B[1m1875/1875\u001B[0m \u001B[32m━━━━━━━━━━━━━━━━━━━━\u001B[0m\u001B[37m\u001B[0m \u001B[1m3s\u001B[0m 2ms/step - loss: 0.0182\n",
      "Epoch 62/100\n",
      "\u001B[1m1875/1875\u001B[0m \u001B[32m━━━━━━━━━━━━━━━━━━━━\u001B[0m\u001B[37m\u001B[0m \u001B[1m5s\u001B[0m 2ms/step - loss: 0.0202\n",
      "Epoch 63/100\n",
      "\u001B[1m1875/1875\u001B[0m \u001B[32m━━━━━━━━━━━━━━━━━━━━\u001B[0m\u001B[37m\u001B[0m \u001B[1m3s\u001B[0m 2ms/step - loss: 0.0196\n",
      "Epoch 64/100\n",
      "\u001B[1m1875/1875\u001B[0m \u001B[32m━━━━━━━━━━━━━━━━━━━━\u001B[0m\u001B[37m\u001B[0m \u001B[1m3s\u001B[0m 2ms/step - loss: 0.0156\n",
      "Epoch 65/100\n",
      "\u001B[1m1875/1875\u001B[0m \u001B[32m━━━━━━━━━━━━━━━━━━━━\u001B[0m\u001B[37m\u001B[0m \u001B[1m3s\u001B[0m 2ms/step - loss: 0.0186\n",
      "Epoch 66/100\n",
      "\u001B[1m1875/1875\u001B[0m \u001B[32m━━━━━━━━━━━━━━━━━━━━\u001B[0m\u001B[37m\u001B[0m \u001B[1m3s\u001B[0m 2ms/step - loss: 0.0188\n",
      "Epoch 67/100\n",
      "\u001B[1m1875/1875\u001B[0m \u001B[32m━━━━━━━━━━━━━━━━━━━━\u001B[0m\u001B[37m\u001B[0m \u001B[1m5s\u001B[0m 2ms/step - loss: 0.0154\n",
      "Epoch 68/100\n",
      "\u001B[1m1875/1875\u001B[0m \u001B[32m━━━━━━━━━━━━━━━━━━━━\u001B[0m\u001B[37m\u001B[0m \u001B[1m5s\u001B[0m 2ms/step - loss: 0.0187\n",
      "Epoch 69/100\n",
      "\u001B[1m1875/1875\u001B[0m \u001B[32m━━━━━━━━━━━━━━━━━━━━\u001B[0m\u001B[37m\u001B[0m \u001B[1m5s\u001B[0m 3ms/step - loss: 0.0176\n",
      "Epoch 70/100\n",
      "\u001B[1m1875/1875\u001B[0m \u001B[32m━━━━━━━━━━━━━━━━━━━━\u001B[0m\u001B[37m\u001B[0m \u001B[1m3s\u001B[0m 2ms/step - loss: 0.0179\n",
      "Epoch 71/100\n",
      "\u001B[1m1875/1875\u001B[0m \u001B[32m━━━━━━━━━━━━━━━━━━━━\u001B[0m\u001B[37m\u001B[0m \u001B[1m3s\u001B[0m 1ms/step - loss: 0.0151\n",
      "Epoch 72/100\n",
      "\u001B[1m1875/1875\u001B[0m \u001B[32m━━━━━━━━━━━━━━━━━━━━\u001B[0m\u001B[37m\u001B[0m \u001B[1m3s\u001B[0m 2ms/step - loss: 0.0163\n",
      "Epoch 73/100\n",
      "\u001B[1m1875/1875\u001B[0m \u001B[32m━━━━━━━━━━━━━━━━━━━━\u001B[0m\u001B[37m\u001B[0m \u001B[1m3s\u001B[0m 2ms/step - loss: 0.0162\n",
      "Epoch 74/100\n",
      "\u001B[1m1875/1875\u001B[0m \u001B[32m━━━━━━━━━━━━━━━━━━━━\u001B[0m\u001B[37m\u001B[0m \u001B[1m5s\u001B[0m 1ms/step - loss: 0.0166\n",
      "Epoch 75/100\n",
      "\u001B[1m1875/1875\u001B[0m \u001B[32m━━━━━━━━━━━━━━━━━━━━\u001B[0m\u001B[37m\u001B[0m \u001B[1m3s\u001B[0m 1ms/step - loss: 0.0138\n",
      "Epoch 76/100\n",
      "\u001B[1m1875/1875\u001B[0m \u001B[32m━━━━━━━━━━━━━━━━━━━━\u001B[0m\u001B[37m\u001B[0m \u001B[1m3s\u001B[0m 1ms/step - loss: 0.0136\n",
      "Epoch 77/100\n",
      "\u001B[1m1875/1875\u001B[0m \u001B[32m━━━━━━━━━━━━━━━━━━━━\u001B[0m\u001B[37m\u001B[0m \u001B[1m3s\u001B[0m 2ms/step - loss: 0.0138\n",
      "Epoch 78/100\n",
      "\u001B[1m1875/1875\u001B[0m \u001B[32m━━━━━━━━━━━━━━━━━━━━\u001B[0m\u001B[37m\u001B[0m \u001B[1m3s\u001B[0m 2ms/step - loss: 0.0132\n",
      "Epoch 79/100\n",
      "\u001B[1m1875/1875\u001B[0m \u001B[32m━━━━━━━━━━━━━━━━━━━━\u001B[0m\u001B[37m\u001B[0m \u001B[1m3s\u001B[0m 2ms/step - loss: 0.0155\n",
      "Epoch 80/100\n",
      "\u001B[1m1875/1875\u001B[0m \u001B[32m━━━━━━━━━━━━━━━━━━━━\u001B[0m\u001B[37m\u001B[0m \u001B[1m4s\u001B[0m 2ms/step - loss: 0.0134\n",
      "Epoch 81/100\n",
      "\u001B[1m1875/1875\u001B[0m \u001B[32m━━━━━━━━━━━━━━━━━━━━\u001B[0m\u001B[37m\u001B[0m \u001B[1m3s\u001B[0m 1ms/step - loss: 0.0159\n",
      "Epoch 82/100\n",
      "\u001B[1m1875/1875\u001B[0m \u001B[32m━━━━━━━━━━━━━━━━━━━━\u001B[0m\u001B[37m\u001B[0m \u001B[1m2s\u001B[0m 1ms/step - loss: 0.0133\n",
      "Epoch 83/100\n",
      "\u001B[1m1875/1875\u001B[0m \u001B[32m━━━━━━━━━━━━━━━━━━━━\u001B[0m\u001B[37m\u001B[0m \u001B[1m3s\u001B[0m 1ms/step - loss: 0.0166\n",
      "Epoch 84/100\n",
      "\u001B[1m1875/1875\u001B[0m \u001B[32m━━━━━━━━━━━━━━━━━━━━\u001B[0m\u001B[37m\u001B[0m \u001B[1m5s\u001B[0m 1ms/step - loss: 0.0170\n",
      "Epoch 85/100\n",
      "\u001B[1m1875/1875\u001B[0m \u001B[32m━━━━━━━━━━━━━━━━━━━━\u001B[0m\u001B[37m\u001B[0m \u001B[1m2s\u001B[0m 1ms/step - loss: 0.0128\n",
      "Epoch 86/100\n",
      "\u001B[1m1875/1875\u001B[0m \u001B[32m━━━━━━━━━━━━━━━━━━━━\u001B[0m\u001B[37m\u001B[0m \u001B[1m2s\u001B[0m 1ms/step - loss: 0.0139\n",
      "Epoch 87/100\n",
      "\u001B[1m1875/1875\u001B[0m \u001B[32m━━━━━━━━━━━━━━━━━━━━\u001B[0m\u001B[37m\u001B[0m \u001B[1m2s\u001B[0m 1ms/step - loss: 0.0158\n",
      "Epoch 88/100\n",
      "\u001B[1m1875/1875\u001B[0m \u001B[32m━━━━━━━━━━━━━━━━━━━━\u001B[0m\u001B[37m\u001B[0m \u001B[1m2s\u001B[0m 1ms/step - loss: 0.0146\n",
      "Epoch 89/100\n",
      "\u001B[1m1875/1875\u001B[0m \u001B[32m━━━━━━━━━━━━━━━━━━━━\u001B[0m\u001B[37m\u001B[0m \u001B[1m3s\u001B[0m 1ms/step - loss: 0.0112\n",
      "Epoch 90/100\n",
      "\u001B[1m1875/1875\u001B[0m \u001B[32m━━━━━━━━━━━━━━━━━━━━\u001B[0m\u001B[37m\u001B[0m \u001B[1m2s\u001B[0m 1ms/step - loss: 0.0135\n",
      "Epoch 91/100\n",
      "\u001B[1m1875/1875\u001B[0m \u001B[32m━━━━━━━━━━━━━━━━━━━━\u001B[0m\u001B[37m\u001B[0m \u001B[1m2s\u001B[0m 1ms/step - loss: 0.0128\n",
      "Epoch 92/100\n",
      "\u001B[1m1875/1875\u001B[0m \u001B[32m━━━━━━━━━━━━━━━━━━━━\u001B[0m\u001B[37m\u001B[0m \u001B[1m2s\u001B[0m 1ms/step - loss: 0.0127\n",
      "Epoch 93/100\n",
      "\u001B[1m1875/1875\u001B[0m \u001B[32m━━━━━━━━━━━━━━━━━━━━\u001B[0m\u001B[37m\u001B[0m \u001B[1m2s\u001B[0m 1ms/step - loss: 0.0124\n",
      "Epoch 94/100\n",
      "\u001B[1m1875/1875\u001B[0m \u001B[32m━━━━━━━━━━━━━━━━━━━━\u001B[0m\u001B[37m\u001B[0m \u001B[1m2s\u001B[0m 1ms/step - loss: 0.0136\n",
      "Epoch 95/100\n",
      "\u001B[1m1875/1875\u001B[0m \u001B[32m━━━━━━━━━━━━━━━━━━━━\u001B[0m\u001B[37m\u001B[0m \u001B[1m3s\u001B[0m 1ms/step - loss: 0.0136\n",
      "Epoch 96/100\n",
      "\u001B[1m1875/1875\u001B[0m \u001B[32m━━━━━━━━━━━━━━━━━━━━\u001B[0m\u001B[37m\u001B[0m \u001B[1m2s\u001B[0m 1ms/step - loss: 0.0096\n",
      "Epoch 97/100\n",
      "\u001B[1m1875/1875\u001B[0m \u001B[32m━━━━━━━━━━━━━━━━━━━━\u001B[0m\u001B[37m\u001B[0m \u001B[1m2s\u001B[0m 1ms/step - loss: 0.0106\n",
      "Epoch 98/100\n",
      "\u001B[1m1875/1875\u001B[0m \u001B[32m━━━━━━━━━━━━━━━━━━━━\u001B[0m\u001B[37m\u001B[0m \u001B[1m2s\u001B[0m 1ms/step - loss: 0.0193\n",
      "Epoch 99/100\n",
      "\u001B[1m1875/1875\u001B[0m \u001B[32m━━━━━━━━━━━━━━━━━━━━\u001B[0m\u001B[37m\u001B[0m \u001B[1m2s\u001B[0m 1ms/step - loss: 0.0116\n",
      "Epoch 100/100\n",
      "\u001B[1m1875/1875\u001B[0m \u001B[32m━━━━━━━━━━━━━━━━━━━━\u001B[0m\u001B[37m\u001B[0m \u001B[1m2s\u001B[0m 1ms/step - loss: 0.0127\n"
     ]
    }
   ],
   "execution_count": 70
  },
  {
   "cell_type": "markdown",
   "metadata": {
    "pycharm": {
     "name": "#%% md\n"
    }
   },
   "source": [
    "#### Epochs and batches\n",
    "In the `compile` statement above, the number of `epochs` was set to 100. This specifies that the entire data set should be applied during training 100 times.  During training, you see output describing the progress of training that looks like this:\n",
    "```\n",
    "Epoch 1/100\n",
    "1875/1875 [==============================] - 0s 1ms/step - loss: 2.2770\n",
    "```\n",
    "The first line, `Epoch 1/100`, describes which epoch the model is currently running. For efficiency, the training data set is broken into 'batches'. The default size of a batch in Tensorflow is 32. There are 60000 examples in our data set or 1875 batches. The notation on the 2nd line `1875/1875 [====` is describing which batch has been executed."
   ]
  },
  {
   "cell_type": "markdown",
   "metadata": {
    "pycharm": {
     "name": "#%% md\n"
    }
   },
   "source": [
    "#### Loss  (cost)\n",
    "When we train a model, the cost should decrease as the number of iterations of the algorithm increases. Tensorflow refers to the cost as `loss`. Above, you saw the loss displayed each epoch as `model.fit` was executing. The [.fit](https://www.tensorflow.org/api_docs/python/tf/keras/Model) method returns a variety of metrics, including the loss, encapsulated in the `history` variable. We can use this variable to plot the learning curve, and make sure the loss indeed decreases."
   ]
  },
  {
   "cell_type": "code",
   "metadata": {
    "pycharm": {
     "name": "#%%\n"
    },
    "ExecuteTime": {
     "end_time": "2025-01-19T15:00:45.045977Z",
     "start_time": "2025-01-19T15:00:44.902698Z"
    }
   },
   "source": [
    "def plot_loss_tf(history):\n",
    "    fig,ax = plt.subplots(1,1, figsize = (4,3))\n",
    "    ax.plot(history.history['loss'], label='loss')\n",
    "    ax.set_ylim([0, 2])\n",
    "    ax.set_xlabel('Epoch')\n",
    "    ax.set_ylabel('loss (cost)')\n",
    "    ax.legend()\n",
    "    ax.grid(True)\n",
    "    plt.show()\n",
    "\n",
    "plot_loss_tf(history)\n"
   ],
   "outputs": [
    {
     "data": {
      "text/plain": [
       "<Figure size 400x300 with 1 Axes>"
      ],
      "image/png": "[encoded data removed]"
     },
     "metadata": {},
     "output_type": "display_data"
    }
   ],
   "execution_count": 71
  },
  {
   "cell_type": "markdown",
   "metadata": {
    "pycharm": {
     "name": "#%% md\n"
    }
   },
   "source": [
    "### 3.3. Evaluation\n",
    "\n",
    "#### Prediction\n",
    "Let's test the trained model on the first test sample."
   ]
  },
  {
   "metadata": {
    "ExecuteTime": {
     "end_time": "2025-01-19T15:00:45.157228Z",
     "start_time": "2025-01-19T15:00:45.069896Z"
    }
   },
   "cell_type": "code",
   "source": [
    "# The code below displays a digit in an 28x28 format\n",
    "def display_digit(d):\n",
    "    fig, ax = plt.subplots(1,1, figsize=(0.5,0.5))\n",
    "    ax.imshow(d, cmap='gray')\n",
    "    ax.set_title(y_test[0])\n",
    "    plt.show()\n",
    "\n",
    "print(\"First test sample:\")\n",
    "display_digit(x_test[0])"
   ],
   "outputs": [
    {
     "name": "stdout",
     "output_type": "stream",
     "text": [
      "First test sample:\n"
     ]
    },
    {
     "data": {
      "text/plain": [
       "<Figure size 50x50 with 1 Axes>"
      ],
      "image/png": "[encoded data removed]"
     },
     "metadata": {},
     "output_type": "display_data"
    }
   ],
   "execution_count": 72
  },
  {
   "metadata": {},
   "cell_type": "markdown",
   "source": [
    "To make a prediction, we use  `model.predict(input)`. <br>\n",
    "Apply the model to the first sample in the test set and print the resulting output. <br>\n",
    "**Note** The shape of your input should be (1, 784)"
   ]
  },
  {
   "metadata": {
    "ExecuteTime": {
     "end_time": "2025-01-19T15:01:07.344723Z",
     "start_time": "2025-01-19T15:01:07.252031Z"
    }
   },
   "cell_type": "code",
   "source": [
    "# *** YOUR CODE HERE ***\n",
    "prediction = model.predict(x_test_norm[0].reshape(1, 784))\n",
    "print(f\"Model output on first test sample: \\n{prediction}\")"
   ],
   "outputs": [
    {
     "name": "stdout",
     "output_type": "stream",
     "text": [
      "\u001B[1m1/1\u001B[0m \u001B[32m━━━━━━━━━━━━━━━━━━━━\u001B[0m\u001B[37m\u001B[0m \u001B[1m0s\u001B[0m 36ms/step\n",
      "Model output on first test sample: \n",
      "[[-38.019634  -14.494167    0.8436324   1.5238676 -30.117853  -14.705193\n",
      "  -65.461975   36.88554    -3.7543225  -3.747152 ]]\n"
     ]
    }
   ],
   "execution_count": 77
  },
  {
   "metadata": {},
   "cell_type": "markdown",
   "source": [
    "Since we trained the model with a linear activation in the final layer, the output is a vector of real numbers.<br>\n",
    " If the problem requires a probability distribution, we should apply `softmax`. <br>\n",
    "In the multiclass classification case, it is enough to use `argmax`."
   ]
  },
  {
   "metadata": {
    "ExecuteTime": {
     "end_time": "2025-01-19T15:01:12.718273Z",
     "start_time": "2025-01-19T15:01:12.711606Z"
    }
   },
   "cell_type": "code",
   "source": [
    "# Predict a class based on the model output.\n",
    "\n",
    "# *** YOUR CODE HERE ***\n",
    "number = np.argmax(prediction)\n",
    "\n",
    "print(f\"Prediction: {number}\")"
   ],
   "outputs": [
    {
     "name": "stdout",
     "output_type": "stream",
     "text": [
      "Prediction: 7\n"
     ]
    }
   ],
   "execution_count": 78
  },
  {
   "metadata": {},
   "cell_type": "markdown",
   "source": [
    "#### Model Evaluation\n",
    "Compute the model predictions on the test set, and print shape, min, max and mean of your predictions vector. <br>\n",
    "Your prediction vector should have the same shape as y_test.\n"
   ]
  },
  {
   "metadata": {
    "ExecuteTime": {
     "end_time": "2025-01-19T15:01:15.169163Z",
     "start_time": "2025-01-19T15:01:14.689799Z"
    }
   },
   "cell_type": "code",
   "source": [
    "# *** YOUR CODE HERE ***\n",
    "test_predictions = model.predict(x_test_reshaped)\n",
    "predicted_classes = np.argmax(test_predictions, axis=1)\n",
    "\n",
    "# Print the required statistics\n",
    "print(f\"test_predictions: shape = {predicted_classes.shape}, \"\n",
    "      f\"min = {predicted_classes.min()}, \"\n",
    "      f\"max = {predicted_classes.max()}, \"\n",
    "      f\"mean = {predicted_classes.mean():.2f}\")"
   ],
   "outputs": [
    {
     "name": "stdout",
     "output_type": "stream",
     "text": [
      "\u001B[1m313/313\u001B[0m \u001B[32m━━━━━━━━━━━━━━━━━━━━\u001B[0m\u001B[37m\u001B[0m \u001B[1m0s\u001B[0m 814us/step\n",
      "test_predictions: shape = (10000,), min = 0, max = 9, mean = 4.44\n"
     ]
    }
   ],
   "execution_count": 79
  },
  {
   "metadata": {},
   "cell_type": "markdown",
   "source": [
    "Use the following modules from sklearn.metrics to evaluate you model:\n",
    "- accuracy_score\n",
    "- confusion_matrix\n",
    "- classification_report\n",
    "\n",
    "You can find the documentation [here](https://scikit-learn.org/stable/api/sklearn.metrics.html).\n"
   ]
  },
  {
   "metadata": {
    "ExecuteTime": {
     "end_time": "2025-01-19T15:01:17.266262Z",
     "start_time": "2025-01-19T15:01:17.224625Z"
    }
   },
   "cell_type": "code",
   "source": [
    "from sklearn.metrics import accuracy_score, confusion_matrix, classification_report\n",
    "\n",
    "# *** YOUR CODE HERE ***\n",
    "accuracy = accuracy_score(y_test, predicted_classes)\n",
    "print(f\"Accuracy: {accuracy:.2f}\\n\")\n",
    "\n",
    "conf_matrix = confusion_matrix(y_test, predicted_classes)\n",
    "print(\"Confusion Matrix:\")\n",
    "print(conf_matrix)\n",
    "\n",
    "class_report = classification_report(y_test, predicted_classes)\n",
    "print(\"\\nClassification Report:\")\n",
    "print(class_report)"
   ],
   "outputs": [
    {
     "name": "stdout",
     "output_type": "stream",
     "text": [
      "Accuracy: 0.96\n",
      "\n",
      "Confusion Matrix:\n",
      "[[ 957    0    3    2    2    4    7    3    2    0]\n",
      " [   1 1105    6    1    2    0    4    2   14    0]\n",
      " [   4    1  991    4    3    3    5    9   12    0]\n",
      " [   1    0    7  968    0    9    2    6    8    9]\n",
      " [   1    1    9    0  933    0   12    6    5   15]\n",
      " [   8    0    1   11    3  840   16    1    6    6]\n",
      " [   7    1    3    1    9    9  927    0    1    0]\n",
      " [   2    5   13   10    4    0    1  979    6    8]\n",
      " [   5    1    3   12    3   11    8    9  918    4]\n",
      " [   2    4    0    9   14    8    3   20   10  939]]\n",
      "\n",
      "Classification Report:\n",
      "              precision    recall  f1-score   support\n",
      "\n",
      "           0       0.97      0.98      0.97       980\n",
      "           1       0.99      0.97      0.98      1135\n",
      "           2       0.96      0.96      0.96      1032\n",
      "           3       0.95      0.96      0.95      1010\n",
      "           4       0.96      0.95      0.95       982\n",
      "           5       0.95      0.94      0.95       892\n",
      "           6       0.94      0.97      0.95       958\n",
      "           7       0.95      0.95      0.95      1028\n",
      "           8       0.93      0.94      0.94       974\n",
      "           9       0.96      0.93      0.94      1009\n",
      "\n",
      "    accuracy                           0.96     10000\n",
      "   macro avg       0.96      0.96      0.96     10000\n",
      "weighted avg       0.96      0.96      0.96     10000\n",
      "\n"
     ]
    }
   ],
   "execution_count": 80
  },
  {
   "metadata": {},
   "cell_type": "markdown",
   "source": ""
  },
  {
   "metadata": {},
   "cell_type": "markdown",
   "source": "Examine the confusion matrix. What digits does the model tend to confuse? Explain your answer."
  },
  {
   "metadata": {},
   "cell_type": "markdown",
   "source": [
    "*** YOUR ANSWER HERE ***\n",
    "\n",
    "I've ran the train model a couple of times, each time observing varying but close results.\n",
    "\n",
    "But the most consistent thing I could observe was that for example the 1's and the 0's \n",
    "\n",
    "Had a pretty high precision rate across all tries, due to the lack of overlap with the other digits in the way they're written.\n",
    "Which meant higher precision rate as they're not confused with the resst of the digits\n",
    "However, the model did tend to confuse a few digits, this last run of mine for example,\n",
    "\n",
    "I could observe that the model confused the digits 7 and 9, possibly due to the 7's being written in a way that resembles a 9.\n",
    "Which might've made it difficult to predict correctly.\n",
    "\n",
    "And generally speaking from what I've observed.\n",
    "The 3's tend to be confused with the 5's, Since both have rounds and can look similar depending on the writing style\n",
    "The 3's also were confused with the 8's, again both having similar round styles when written. \n",
    "\n",
    "And a confusion that almost always showed up was the confusion between the 4's and the 9's,\n",
    "A poorly written 4 can easily appear as a 9, and vice versa, a mistake even we humans tend to make. So it's something that caught my eye as well when I analyzed the confusion matrices\n",
    "and wasn't surprised to see.\n",
    "\n",
    "The 2's also had their fair share of the confusion, I mostly observed 2's being mistaken for 7's, and 8's\n",
    "In general, the confusion happens due to some numbers in certain handwriting styles looking similar to othen digits\n",
    "\n",
    "We could need better and diverse samples or have a larger data to train the model with, to increase precision.\n",
    "Because it is clear the model struggled and was limited when it comes to certain digits.\n",
    "\n",
    "\n",
    "\n",
    "\n",
    "\n",
    "\n",
    "\n"
   ]
  }
 ],
 "metadata": {
  "dl_toc_settings": {
   "rndtag": "89367"
  },
  "kernelspec": {
   "display_name": "Python 3",
   "language": "python",
   "name": "python3"
  },
  "language_info": {
   "codemirror_mode": {
    "name": "ipython",
    "version": 3
   },
   "file_extension": ".py",
   "mimetype": "text/x-python",
   "name": "python",
   "nbconvert_exporter": "python",
   "pygments_lexer": "ipython3",
   "version": "3.7.6"
  }
 },
 "nbformat": 4,
 "nbformat_minor": 4
}
